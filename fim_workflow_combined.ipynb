{
  "cells": [
    {
      "cell_type": "markdown",
      "metadata": {
        "id": "7TAXzL2dbyr5"
      },
      "source": [
        "# Fluvial flood inundation mapping quick start"
      ]
    },
    {
      "cell_type": "markdown",
      "metadata": {
        "id": "SgD7kLfhbyr6"
      },
      "source": [
        "### [![Open In Colab](https://colab.research.google.com/assets/colab-badge.svg)](https://colab.research.google.com/github/passah2o/pygeoflood/blob/master/doc/examples/fim_workflow_combined.ipynb)\n",
        "\n",
        "On Google Colab, run the following command to install pygeoflood:\n",
        "\n",
        "```bash\n",
        "%pip install git+https://github.com/passah2o/pygeoflood\n",
        "```\n"
      ]
    },
    {
      "cell_type": "markdown",
      "metadata": {
        "id": "Bs031yHfIwQK"
      },
      "source": [
        "### Import libraries\n"
      ]
    },
    {
      "cell_type": "code",
      "execution_count": 2,
      "metadata": {
        "id": "HC5AVJNobyr7",
        "outputId": "c30beee1-f918-4a06-9ca6-ec2ed9f66e55",
        "colab": {
          "base_uri": "https://localhost:8080/"
        }
      },
      "outputs": [
        {
          "output_type": "stream",
          "name": "stdout",
          "text": [
            "Collecting git+https://github.com/passah2o/pygeoflood\n",
            "  Cloning https://github.com/passah2o/pygeoflood to /tmp/pip-req-build-549vkl18\n",
            "  Running command git clone --filter=blob:none --quiet https://github.com/passah2o/pygeoflood /tmp/pip-req-build-549vkl18\n",
            "  Resolved https://github.com/passah2o/pygeoflood to commit e271a9f28c5bdd431dbe3ed16817fb6eee81fc79\n",
            "  Installing build dependencies ... \u001b[?25l\u001b[?25hdone\n",
            "  Getting requirements to build wheel ... \u001b[?25l\u001b[?25hdone\n",
            "  Preparing metadata (pyproject.toml) ... \u001b[?25l\u001b[?25hdone\n",
            "Requirement already satisfied: geopandas in /usr/local/lib/python3.11/dist-packages (from pygeoflood==0.0.3a2) (1.0.1)\n",
            "Requirement already satisfied: ipykernel in /usr/local/lib/python3.11/dist-packages (from pygeoflood==0.0.3a2) (6.17.1)\n",
            "Requirement already satisfied: matplotlib in /usr/local/lib/python3.11/dist-packages (from pygeoflood==0.0.3a2) (3.10.0)\n",
            "Requirement already satisfied: numba in /usr/local/lib/python3.11/dist-packages (from pygeoflood==0.0.3a2) (0.60.0)\n",
            "Requirement already satisfied: numpy in /usr/local/lib/python3.11/dist-packages (from pygeoflood==0.0.3a2) (2.0.2)\n",
            "Requirement already satisfied: pandas in /usr/local/lib/python3.11/dist-packages (from pygeoflood==0.0.3a2) (2.2.2)\n",
            "Collecting rasterio (from pygeoflood==0.0.3a2)\n",
            "  Downloading rasterio-1.4.3-cp311-cp311-manylinux_2_17_x86_64.manylinux2014_x86_64.whl.metadata (9.1 kB)\n",
            "Collecting scikit-fmm (from pygeoflood==0.0.3a2)\n",
            "  Downloading scikit_fmm-2025.6.23.tar.gz (467 kB)\n",
            "\u001b[2K     \u001b[90m━━━━━━━━━━━━━━━━━━━━━━━━━━━━━━━━━━━━━━━\u001b[0m \u001b[32m467.8/467.8 kB\u001b[0m \u001b[31m6.9 MB/s\u001b[0m eta \u001b[36m0:00:00\u001b[0m\n",
            "\u001b[?25h  Installing build dependencies ... \u001b[?25l\u001b[?25hdone\n",
            "  Getting requirements to build wheel ... \u001b[?25l\u001b[?25hdone\n",
            "  Installing backend dependencies ... \u001b[?25l\u001b[?25hdone\n",
            "  Preparing metadata (pyproject.toml) ... \u001b[?25l\u001b[?25hdone\n",
            "Requirement already satisfied: scikit-image in /usr/local/lib/python3.11/dist-packages (from pygeoflood==0.0.3a2) (0.25.2)\n",
            "Requirement already satisfied: scipy in /usr/local/lib/python3.11/dist-packages (from pygeoflood==0.0.3a2) (1.15.3)\n",
            "Collecting whitebox (from pygeoflood==0.0.3a2)\n",
            "  Downloading whitebox-2.3.6-py2.py3-none-any.whl.metadata (11 kB)\n",
            "Requirement already satisfied: xarray in /usr/local/lib/python3.11/dist-packages (from pygeoflood==0.0.3a2) (2025.3.1)\n",
            "Collecting fiona (from pygeoflood==0.0.3a2)\n",
            "  Downloading fiona-1.10.1-cp311-cp311-manylinux_2_17_x86_64.manylinux2014_x86_64.whl.metadata (56 kB)\n",
            "\u001b[2K     \u001b[90m━━━━━━━━━━━━━━━━━━━━━━━━━━━━━━━━━━━━━━━━\u001b[0m \u001b[32m56.6/56.6 kB\u001b[0m \u001b[31m5.3 MB/s\u001b[0m eta \u001b[36m0:00:00\u001b[0m\n",
            "\u001b[?25hRequirement already satisfied: attrs>=19.2.0 in /usr/local/lib/python3.11/dist-packages (from fiona->pygeoflood==0.0.3a2) (25.3.0)\n",
            "Requirement already satisfied: certifi in /usr/local/lib/python3.11/dist-packages (from fiona->pygeoflood==0.0.3a2) (2025.6.15)\n",
            "Requirement already satisfied: click~=8.0 in /usr/local/lib/python3.11/dist-packages (from fiona->pygeoflood==0.0.3a2) (8.2.1)\n",
            "Collecting click-plugins>=1.0 (from fiona->pygeoflood==0.0.3a2)\n",
            "  Downloading click_plugins-1.1.1.2-py2.py3-none-any.whl.metadata (6.5 kB)\n",
            "Collecting cligj>=0.5 (from fiona->pygeoflood==0.0.3a2)\n",
            "  Downloading cligj-0.7.2-py3-none-any.whl.metadata (5.0 kB)\n",
            "Requirement already satisfied: pyogrio>=0.7.2 in /usr/local/lib/python3.11/dist-packages (from geopandas->pygeoflood==0.0.3a2) (0.11.0)\n",
            "Requirement already satisfied: packaging in /usr/local/lib/python3.11/dist-packages (from geopandas->pygeoflood==0.0.3a2) (24.2)\n",
            "Requirement already satisfied: pyproj>=3.3.0 in /usr/local/lib/python3.11/dist-packages (from geopandas->pygeoflood==0.0.3a2) (3.7.1)\n",
            "Requirement already satisfied: shapely>=2.0.0 in /usr/local/lib/python3.11/dist-packages (from geopandas->pygeoflood==0.0.3a2) (2.1.1)\n",
            "Requirement already satisfied: python-dateutil>=2.8.2 in /usr/local/lib/python3.11/dist-packages (from pandas->pygeoflood==0.0.3a2) (2.9.0.post0)\n",
            "Requirement already satisfied: pytz>=2020.1 in /usr/local/lib/python3.11/dist-packages (from pandas->pygeoflood==0.0.3a2) (2025.2)\n",
            "Requirement already satisfied: tzdata>=2022.7 in /usr/local/lib/python3.11/dist-packages (from pandas->pygeoflood==0.0.3a2) (2025.2)\n",
            "Requirement already satisfied: debugpy>=1.0 in /usr/local/lib/python3.11/dist-packages (from ipykernel->pygeoflood==0.0.3a2) (1.8.0)\n",
            "Requirement already satisfied: ipython>=7.23.1 in /usr/local/lib/python3.11/dist-packages (from ipykernel->pygeoflood==0.0.3a2) (7.34.0)\n",
            "Requirement already satisfied: jupyter-client>=6.1.12 in /usr/local/lib/python3.11/dist-packages (from ipykernel->pygeoflood==0.0.3a2) (6.1.12)\n",
            "Requirement already satisfied: matplotlib-inline>=0.1 in /usr/local/lib/python3.11/dist-packages (from ipykernel->pygeoflood==0.0.3a2) (0.1.7)\n",
            "Requirement already satisfied: nest-asyncio in /usr/local/lib/python3.11/dist-packages (from ipykernel->pygeoflood==0.0.3a2) (1.6.0)\n",
            "Requirement already satisfied: psutil in /usr/local/lib/python3.11/dist-packages (from ipykernel->pygeoflood==0.0.3a2) (5.9.5)\n",
            "Requirement already satisfied: pyzmq>=17 in /usr/local/lib/python3.11/dist-packages (from ipykernel->pygeoflood==0.0.3a2) (24.0.1)\n",
            "Requirement already satisfied: tornado>=6.1 in /usr/local/lib/python3.11/dist-packages (from ipykernel->pygeoflood==0.0.3a2) (6.4.2)\n",
            "Requirement already satisfied: traitlets>=5.1.0 in /usr/local/lib/python3.11/dist-packages (from ipykernel->pygeoflood==0.0.3a2) (5.7.1)\n",
            "Requirement already satisfied: contourpy>=1.0.1 in /usr/local/lib/python3.11/dist-packages (from matplotlib->pygeoflood==0.0.3a2) (1.3.2)\n",
            "Requirement already satisfied: cycler>=0.10 in /usr/local/lib/python3.11/dist-packages (from matplotlib->pygeoflood==0.0.3a2) (0.12.1)\n",
            "Requirement already satisfied: fonttools>=4.22.0 in /usr/local/lib/python3.11/dist-packages (from matplotlib->pygeoflood==0.0.3a2) (4.58.4)\n",
            "Requirement already satisfied: kiwisolver>=1.3.1 in /usr/local/lib/python3.11/dist-packages (from matplotlib->pygeoflood==0.0.3a2) (1.4.8)\n",
            "Requirement already satisfied: pillow>=8 in /usr/local/lib/python3.11/dist-packages (from matplotlib->pygeoflood==0.0.3a2) (11.2.1)\n",
            "Requirement already satisfied: pyparsing>=2.3.1 in /usr/local/lib/python3.11/dist-packages (from matplotlib->pygeoflood==0.0.3a2) (3.2.3)\n",
            "Requirement already satisfied: llvmlite<0.44,>=0.43.0dev0 in /usr/local/lib/python3.11/dist-packages (from numba->pygeoflood==0.0.3a2) (0.43.0)\n",
            "Collecting affine (from rasterio->pygeoflood==0.0.3a2)\n",
            "  Downloading affine-2.4.0-py3-none-any.whl.metadata (4.0 kB)\n",
            "Requirement already satisfied: networkx>=3.0 in /usr/local/lib/python3.11/dist-packages (from scikit-image->pygeoflood==0.0.3a2) (3.5)\n",
            "Requirement already satisfied: imageio!=2.35.0,>=2.33 in /usr/local/lib/python3.11/dist-packages (from scikit-image->pygeoflood==0.0.3a2) (2.37.0)\n",
            "Requirement already satisfied: tifffile>=2022.8.12 in /usr/local/lib/python3.11/dist-packages (from scikit-image->pygeoflood==0.0.3a2) (2025.6.11)\n",
            "Requirement already satisfied: lazy-loader>=0.4 in /usr/local/lib/python3.11/dist-packages (from scikit-image->pygeoflood==0.0.3a2) (0.4)\n",
            "Requirement already satisfied: setuptools>=18.5 in /usr/local/lib/python3.11/dist-packages (from ipython>=7.23.1->ipykernel->pygeoflood==0.0.3a2) (75.2.0)\n",
            "Collecting jedi>=0.16 (from ipython>=7.23.1->ipykernel->pygeoflood==0.0.3a2)\n",
            "  Downloading jedi-0.19.2-py2.py3-none-any.whl.metadata (22 kB)\n",
            "Requirement already satisfied: decorator in /usr/local/lib/python3.11/dist-packages (from ipython>=7.23.1->ipykernel->pygeoflood==0.0.3a2) (4.4.2)\n",
            "Requirement already satisfied: pickleshare in /usr/local/lib/python3.11/dist-packages (from ipython>=7.23.1->ipykernel->pygeoflood==0.0.3a2) (0.7.5)\n",
            "Requirement already satisfied: prompt-toolkit!=3.0.0,!=3.0.1,<3.1.0,>=2.0.0 in /usr/local/lib/python3.11/dist-packages (from ipython>=7.23.1->ipykernel->pygeoflood==0.0.3a2) (3.0.51)\n",
            "Requirement already satisfied: pygments in /usr/local/lib/python3.11/dist-packages (from ipython>=7.23.1->ipykernel->pygeoflood==0.0.3a2) (2.19.2)\n",
            "Requirement already satisfied: backcall in /usr/local/lib/python3.11/dist-packages (from ipython>=7.23.1->ipykernel->pygeoflood==0.0.3a2) (0.2.0)\n",
            "Requirement already satisfied: pexpect>4.3 in /usr/local/lib/python3.11/dist-packages (from ipython>=7.23.1->ipykernel->pygeoflood==0.0.3a2) (4.9.0)\n",
            "Requirement already satisfied: jupyter-core>=4.6.0 in /usr/local/lib/python3.11/dist-packages (from jupyter-client>=6.1.12->ipykernel->pygeoflood==0.0.3a2) (5.8.1)\n",
            "Requirement already satisfied: six>=1.5 in /usr/local/lib/python3.11/dist-packages (from python-dateutil>=2.8.2->pandas->pygeoflood==0.0.3a2) (1.17.0)\n",
            "Requirement already satisfied: parso<0.9.0,>=0.8.4 in /usr/local/lib/python3.11/dist-packages (from jedi>=0.16->ipython>=7.23.1->ipykernel->pygeoflood==0.0.3a2) (0.8.4)\n",
            "Requirement already satisfied: platformdirs>=2.5 in /usr/local/lib/python3.11/dist-packages (from jupyter-core>=4.6.0->jupyter-client>=6.1.12->ipykernel->pygeoflood==0.0.3a2) (4.3.8)\n",
            "Requirement already satisfied: ptyprocess>=0.5 in /usr/local/lib/python3.11/dist-packages (from pexpect>4.3->ipython>=7.23.1->ipykernel->pygeoflood==0.0.3a2) (0.7.0)\n",
            "Requirement already satisfied: wcwidth in /usr/local/lib/python3.11/dist-packages (from prompt-toolkit!=3.0.0,!=3.0.1,<3.1.0,>=2.0.0->ipython>=7.23.1->ipykernel->pygeoflood==0.0.3a2) (0.2.13)\n",
            "Downloading fiona-1.10.1-cp311-cp311-manylinux_2_17_x86_64.manylinux2014_x86_64.whl (17.3 MB)\n",
            "\u001b[2K   \u001b[90m━━━━━━━━━━━━━━━━━━━━━━━━━━━━━━━━━━━━━━━━\u001b[0m \u001b[32m17.3/17.3 MB\u001b[0m \u001b[31m97.5 MB/s\u001b[0m eta \u001b[36m0:00:00\u001b[0m\n",
            "\u001b[?25hDownloading rasterio-1.4.3-cp311-cp311-manylinux_2_17_x86_64.manylinux2014_x86_64.whl (22.2 MB)\n",
            "\u001b[2K   \u001b[90m━━━━━━━━━━━━━━━━━━━━━━━━━━━━━━━━━━━━━━━━\u001b[0m \u001b[32m22.2/22.2 MB\u001b[0m \u001b[31m81.0 MB/s\u001b[0m eta \u001b[36m0:00:00\u001b[0m\n",
            "\u001b[?25hDownloading whitebox-2.3.6-py2.py3-none-any.whl (74 kB)\n",
            "\u001b[2K   \u001b[90m━━━━━━━━━━━━━━━━━━━━━━━━━━━━━━━━━━━━━━━━\u001b[0m \u001b[32m74.0/74.0 kB\u001b[0m \u001b[31m8.4 MB/s\u001b[0m eta \u001b[36m0:00:00\u001b[0m\n",
            "\u001b[?25hDownloading click_plugins-1.1.1.2-py2.py3-none-any.whl (11 kB)\n",
            "Downloading cligj-0.7.2-py3-none-any.whl (7.1 kB)\n",
            "Downloading affine-2.4.0-py3-none-any.whl (15 kB)\n",
            "Downloading jedi-0.19.2-py2.py3-none-any.whl (1.6 MB)\n",
            "\u001b[2K   \u001b[90m━━━━━━━━━━━━━━━━━━━━━━━━━━━━━━━━━━━━━━━━\u001b[0m \u001b[32m1.6/1.6 MB\u001b[0m \u001b[31m36.5 MB/s\u001b[0m eta \u001b[36m0:00:00\u001b[0m\n",
            "\u001b[?25hBuilding wheels for collected packages: pygeoflood, scikit-fmm\n",
            "  Building wheel for pygeoflood (pyproject.toml) ... \u001b[?25l\u001b[?25hdone\n",
            "  Created wheel for pygeoflood: filename=pygeoflood-0.0.3a2-py3-none-any.whl size=242710 sha256=44369b15926cb78b314a9b86f43ae3f72a5930ef3b7c81bd1b3d0dcbad2057f0\n",
            "  Stored in directory: /tmp/pip-ephem-wheel-cache-qtvocgeq/wheels/5a/60/1a/5113a417e707348dcd798ad4618c52d4e8a8eb617b8c662771\n",
            "  Building wheel for scikit-fmm (pyproject.toml) ... \u001b[?25l\u001b[?25hdone\n",
            "  Created wheel for scikit-fmm: filename=scikit_fmm-2025.6.23-cp311-cp311-linux_x86_64.whl size=76785 sha256=50e9e04a6d5ec244e5ed1b72ef751e7a2312ef631d3934b8fb150c5803aabc3a\n",
            "  Stored in directory: /root/.cache/pip/wheels/5a/b2/d7/7e4095355ab69b8582d056c375d344e1f522bb237e5abbe947\n",
            "Successfully built pygeoflood scikit-fmm\n",
            "Installing collected packages: whitebox, scikit-fmm, jedi, cligj, click-plugins, affine, rasterio, fiona, pygeoflood\n",
            "Successfully installed affine-2.4.0 click-plugins-1.1.1.2 cligj-0.7.2 fiona-1.10.1 jedi-0.19.2 pygeoflood-0.0.3a2 rasterio-1.4.3 scikit-fmm-2025.6.23 whitebox-2.3.6\n"
          ]
        }
      ],
      "source": [
        "!pip install git+https://github.com/passah2o/pygeoflood\n",
        "\n",
        "from pathlib import Path\n",
        "from pygeoflood import pyGeoFlood"
      ]
    },
    {
      "cell_type": "markdown",
      "metadata": {
        "id": "gU16obLVbyr7"
      },
      "source": [
        "### Instantiate **pygeoflood** model class\n"
      ]
    },
    {
      "cell_type": "code",
      "execution_count": 3,
      "metadata": {
        "id": "32TMzNMdbyr8"
      },
      "outputs": [],
      "source": [
        "pgf = pyGeoFlood(dem_path=\"data/OC1mTest.tif\")"
      ]
    },
    {
      "cell_type": "markdown",
      "metadata": {
        "id": "OHPXltgxbyr8"
      },
      "source": [
        "### Set paths to input datasets\n"
      ]
    },
    {
      "cell_type": "code",
      "execution_count": 4,
      "metadata": {
        "id": "dyWDIFgdbyr8"
      },
      "outputs": [],
      "source": [
        "pgf.flowline_path = \"data/Flowline.shp\"\n",
        "pgf.catchment_path = \"data/Catchment.shp\"\n",
        "\n",
        "# # we are not using these datasets for this example\n",
        "# pgf.streamflow_forecast_path = \"data/prod_nwm.t00z.analysis_assim.channel_rt.tm00.conus.nc\"\n",
        "# pgf.custom_flowline_path = Path(data_dir, \"NHDPlus_H_1209_HU4_GDB.gdb\")"
      ]
    },
    {
      "cell_type": "markdown",
      "metadata": {
        "id": "1x-kvHmGbyr9"
      },
      "source": [
        "### Download example input datasets if necessary\n"
      ]
    },
    {
      "cell_type": "code",
      "execution_count": 5,
      "metadata": {
        "id": "OCPj17Sgbyr9"
      },
      "outputs": [],
      "source": [
        "# make data directory if it doesn't exist\n",
        "if not Path(\"data\").is_dir():\n",
        "    Path(\"data\").mkdir()\n",
        "# download input datasets if they doesn't exist\n",
        "# DEM from USGS 3DEP\n",
        "if not pgf.dem_path.is_file():\n",
        "    !curl https://utexas.box.com/shared/static/id0in7w8yn38o59sexa50aqunsr7mzk0.tif -Lso data/OC1mTest.tif\n",
        "# flowlines and catchments from NFIE (NHD MR) dataset\n",
        "# https://www.arcgis.com/home/webmap/viewer.html?webmap=9766a82973b34f18b43dafa20c5ef535\n",
        "if not pgf.flowline_path.is_file():\n",
        "    !curl -sL https://utexas.box.com/shared/static/s1vlnymonbidnhul52oja7s83ky1212j.tgz | tar -xz -C data\n",
        "if not pgf.catchment_path.is_file():\n",
        "    !curl -sL https://utexas.box.com/shared/static/jzawwvmb2tjl4yqtnitgvfjcc4ho4tg5.tgz | tar -xz -C data"
      ]
    },
    {
      "cell_type": "markdown",
      "metadata": {
        "id": "8etAZJ9nbyr9"
      },
      "source": [
        "### Run full fluvial flood inundation mapping workflow\n"
      ]
    },
    {
      "cell_type": "code",
      "execution_count": 6,
      "metadata": {
        "id": "eIWYyZYSbyr-",
        "outputId": "b1ef56d9-cd91-47b0-faac-a576cacb5ad7",
        "colab": {
          "base_uri": "https://localhost:8080/"
        }
      },
      "outputs": [
        {
          "output_type": "stream",
          "name": "stdout",
          "text": [
            "Running apply_nonlinear_filter with parameters:\n",
            "    custom_dem = None\n",
            "    custom_path = None\n",
            "    method = PeronaMalik2\n",
            "    smoothing_quantile = 0.9\n",
            "    time_increment = 0.1\n",
            "    n_iter = 50\n",
            "    sigma_squared = 0.05\n",
            "Computing slope of raw DTM\n",
            "DEM slope array shape: (3378, 4750)\n",
            "Computing lambda = q-q-based nonlinear filtering threshold\n",
            "DEM smoothing Quantile: 0.9\n",
            "Edge Threshold Value: 0.34356024861335754\n",
            "Filtered DEM written to data/OC1mTest_filtered.tif\n",
            "apply_nonlinear_filter completed in 25.7208 seconds\n",
            "\n",
            "Running calculate_slope with parameters:\n",
            "    custom_filtered_dem = None\n",
            "    custom_path = None\n",
            " slope statistics\n",
            " min angle: 0.0\n",
            " max angle: 54.8638\n",
            " mean slope: 0.13960592\n",
            " stdev slope: 0.15432632\n",
            "Slope raster written to data/OC1mTest_slope.tif\n",
            "calculate_slope completed in 2.7261 seconds\n",
            "\n",
            "Running calculate_curvature with parameters:\n",
            "    custom_filtered_dem = None\n",
            "    custom_path = None\n",
            "    method = geometric\n",
            " using geometric curvature\n",
            " curvature statistics\n",
            " non-nan curvature cell number: 16045500\n",
            " non-nan finite curvature cell number:  mean:  -0.00031314598\n",
            " standard deviation:  0.112147875\n",
            "Curvature raster written to data/OC1mTest_curvature.tif\n",
            "calculate_curvature completed in 3.4815 seconds\n",
            "\n",
            "Running fill_depressions with parameters:\n",
            "    custom_filtered_dem = None\n",
            "    custom_path = None\n",
            "Downloading WhiteboxTools pre-compiled binary for first time use ...\n",
            "Downloading WhiteboxTools binary from https://www.whiteboxgeo.com/WBT_Linux/WhiteboxTools_linux_musl.zip\n",
            "Decompressing WhiteboxTools_linux_musl.zip ...\n",
            "WhiteboxTools package directory: /usr/local/lib/python3.11/dist-packages/whitebox\n",
            "Downloading testdata ...\n",
            "./whitebox_tools --run=\"FillDepressions\" --dem='/content/data/OC1mTest_filtered.tif' --output='/content/data/OC1mTest_filled.tif' --fix_flats -v --compress_rasters=True\n",
            "\n",
            "******************************\n",
            "* Welcome to FillDepressions *\n",
            "* Powered by WhiteboxTools   *\n",
            "* www.whiteboxgeo.com        *\n",
            "******************************\n",
            "Reading data...\n",
            "Fixing flow on flats...\n",
            "Flats increment value: 0.000002\n",
            "Saving data...\n",
            "Output file written\n",
            "Elapsed Time (excluding I/O): 0.634s\n",
            "Filled DEM written to data/OC1mTest_filled.tif\n",
            "fill_depressions completed in 19.2707 seconds\n",
            "\n",
            "Running calculate_mfd_flow_accumulation with parameters:\n",
            "    custom_filled_dem = None\n",
            "    custom_path = None\n",
            "./whitebox_tools --run=\"QuinnFlowAccumulation\" --dem='/content/data/OC1mTest_filled.tif' --output='/content/data/OC1mTest_mfd_fac.tif' --out_type=cells --exponent=1.0 -v --compress_rasters=True\n",
            "\n",
            "************************************\n",
            "* Welcome to QuinnFlowAccumulation *\n",
            "* Powered by WhiteboxTools         *\n",
            "* www.whiteboxgeo.com              *\n",
            "************************************\n",
            "Saving data...\n",
            "Output file written\n",
            "\n",
            "Elapsed Time (Including I/O): 12.789s\n",
            "MFD flow accumulation raster written to data/OC1mTest_mfd_fac.tif\n",
            "calculate_mfd_flow_accumulation completed in 12.8169 seconds\n",
            "\n",
            "Running calculate_d8_flow_direction with parameters:\n",
            "    custom_filled_dem = None\n",
            "    custom_filtered_dem = None\n",
            "    custom_path = None\n",
            "./whitebox_tools --run=\"D8Pointer\" --dem='/content/data/OC1mTest_filled.tif' --output='/content/data/OC1mTest_d8_fdr.tif' -v --compress_rasters=True\n",
            "\n",
            "****************************\n",
            "* Welcome to D8Pointer     *\n",
            "* Powered by WhiteboxTools *\n",
            "* www.whiteboxgeo.com      *\n",
            "****************************\n",
            "Reading data...\n",
            "Saving data...\n",
            "Output file written\n",
            "Elapsed Time (excluding I/O): 1.67s\n",
            "D8 flow direction raster written to data/OC1mTest_d8_fdr.tif\n",
            "calculate_d8_flow_direction completed in 6.1597 seconds\n",
            "\n",
            "Running find_outlets with parameters:\n",
            "    custom_d8_fdr = None\n",
            "    custom_path = None\n",
            "Outlets raster written to data/OC1mTest_outlets.tif\n",
            "find_outlets completed in 0.3661 seconds\n",
            "\n",
            "Running delineate_basins with parameters:\n",
            "    custom_d8_fdr = None\n",
            "    custom_path = None\n",
            "./whitebox_tools --run=\"Basins\" --d8_pntr='/content/data/OC1mTest_d8_fdr.tif' --output='/content/data/OC1mTest_basins.tif' -v --compress_rasters=True\n",
            "\n",
            "****************************\n",
            "* Welcome to Basins        *\n",
            "* Powered by WhiteboxTools *\n",
            "* www.whiteboxgeo.com      *\n",
            "****************************\n",
            "Reading data...\n",
            "Saving data...\n",
            "Output file written\n",
            "Elapsed Time (excluding I/O): 0.820s\n",
            "Basins raster written to data/OC1mTest_basins.tif\n",
            "delineate_basins completed in 2.2893 seconds\n",
            "\n",
            "Running define_skeleton with parameters:\n",
            "    custom_curvature = None\n",
            "    custom_mfd_fac = None\n",
            "    custom_path = None\n",
            "    fac_threshold = 3000\n",
            "    write_flow_skeleton = False\n",
            "    write_curvature_skeleton = False\n",
            "Curvature mean:  -0.00031413726\n",
            "Curvature standard deviation:  0.11232527\n",
            "Curvature Projection: EPSG:6343\n",
            "Mean upstream flow:  2617.3564\n",
            "Combined skeleton written to data/OC1mTest_combined_skeleton.tif\n",
            "define_skeleton completed in 1.9006 seconds\n",
            "\n",
            "Running find_endpoints with parameters:\n",
            "    custom_flowline = None\n",
            "    custom_path = None\n"
          ]
        },
        {
          "output_type": "stream",
          "name": "stderr",
          "text": [
            "/usr/local/lib/python3.11/dist-packages/pyogrio/raw.py:198: UserWarning: Measured (M) geometry types are not supported. Original type 'Measured 3D LineString' is converted to 'LineString Z'\n",
            "  return ogr_read(\n",
            "/usr/local/lib/python3.11/dist-packages/pyogrio/raw.py:198: UserWarning: Measured (M) geometry types are not supported. Original type 'Measured 3D LineString' is converted to 'LineString Z'\n",
            "  return ogr_read(\n"
          ]
        },
        {
          "output_type": "stream",
          "name": "stdout",
          "text": [
            "Endpoints csv written to data/OC1mTest_endpoints.csv\n",
            "find_endpoints completed in 0.5665 seconds\n",
            "\n",
            "Running calculate_binary_hand with parameters:\n",
            "    custom_dem = None\n",
            "    custom_flowline = None\n",
            "    custom_path = None\n",
            "Binary HAND raster written to data/OC1mTest_binary_hand.tif\n",
            "calculate_binary_hand completed in 14.2915 seconds\n",
            "\n",
            "Running extract_channel_network with parameters:\n",
            "    custom_flowline = None\n",
            "    custom_curvature = None\n",
            "    custom_mfd_fac = None\n",
            "    custom_endpoints = None\n",
            "    custom_binary_hand = None\n",
            "    custom_path = None\n",
            "    retrace_flowline = True\n",
            "    vector_extension = shp\n",
            "    write_cost_function = False\n",
            "    use_custom_flowline = False\n",
            "    no_flowline = False\n",
            "    custom_weight_curvature = None\n",
            "    custom_weight_mfd_fac = None\n",
            "    custom_weight_binary_hand = None\n",
            "    custom_weight_custom_flowline = None\n",
            "Retracing flowline...\n",
            "Cost function weights:\n",
            "curvature          0.2520 (mean flow accumulation)\n",
            "mfd_fac            1.0000\n",
            "binary_hand        0.7500\n",
            "custom_flowline    0.0000\n",
            "0.25195235 1 0.75 0\n",
            "Cost min: 0.5028838188775905\n",
            "Cost max: inf\n",
            "cost shape: (3378, 4750)\n",
            "Creating path 1/1: RAM usage: 1.74/12.67 GB (13.7%)\n",
            "Number of endpoints: 1\n",
            "Channel network raster written to data/OC1mTest_channel_network_raster.tif\n",
            "Channel network vector written to data/OC1mTest_channel_network.shp\n",
            "extract_channel_network completed in 4.9808 seconds\n",
            "\n",
            "Running calculate_hand with parameters:\n",
            "    custom_filled_dem = None\n",
            "    custom_channel_network_raster = None\n",
            "    custom_path = None\n",
            "./whitebox_tools --run=\"ElevationAboveStream\" --dem='/content/data/OC1mTest_filled.tif' --streams='/content/data/OC1mTest_channel_network_raster.tif' --output='/content/data/OC1mTest_HAND.tif' -v --compress_rasters=True\n",
            "\n",
            "***********************************\n",
            "* Welcome to ElevationAboveStream *\n",
            "* Powered by WhiteboxTools        *\n",
            "* www.whiteboxgeo.com             *\n",
            "***********************************\n",
            "Reading DEM data...\n",
            "Reading streams data...\n",
            "Saving data...\n",
            "Output file written\n",
            "Elapsed Time (excluding I/O): 1.882s\n",
            "**********************************************************************************\n",
            "WARNING: Interior pit cells were found within the input DEM. It is likely that the\n",
            "DEM needs to be processed to remove topographic depressions and flats prior to\n",
            "running this tool.\n",
            "**********************************************************************************\n",
            "HAND raster written to data/OC1mTest_HAND.tif\n",
            "calculate_hand completed in 11.0710 seconds\n",
            "\n",
            "Running segment_channel_network with parameters:\n",
            "    custom_channel_network_vector = None\n",
            "    custom_path = None\n",
            "    vector_extension = shp\n",
            "    segment_length = 1000\n",
            "Segmented channel network written to data/OC1mTest_segmented_channel_network.shp\n",
            "segment_channel_network completed in 2.4522 seconds\n",
            "\n",
            "Running delineate_segment_catchments with parameters:\n",
            "    custom_segmented_channel_network = None\n",
            "    custom_d8_fdr = None\n",
            "    custom_path = None\n",
            "./whitebox_tools --run=\"Watershed\" --d8_pntr='/content/data/OC1mTest_d8_fdr.tif' --pour_pts='/content/data/OC1mTest_segmented_channel_network_raster.tif' --output='/content/data/OC1mTest_segment_catchments.tif' -v --compress_rasters=True\n",
            "\n",
            "****************************\n",
            "* Welcome to Watershed     *\n",
            "* Powered by WhiteboxTools *\n",
            "* www.whiteboxgeo.com      *\n",
            "****************************\n",
            "Reading data...\n",
            "Saving data...\n",
            "Output file written\n",
            "Elapsed Time (excluding I/O): 1.479s\n",
            "Segment catchments written to data/OC1mTest_segment_catchments.tif\n",
            "delineate_segment_catchments completed in 3.1570 seconds\n",
            "\n",
            "Running calculate_src with parameters:\n",
            "    custom_dem = None\n",
            "    custom_segmented_channel_network = None\n",
            "    custom_segment_catchments_raster = None\n",
            "    custom_catchments = None\n",
            "    custom_hand = None\n",
            "    custom_path = None\n",
            "    min_slope = 1e-06\n",
            "    max_stage = 20\n",
            "    incr_stage = 0.1\n",
            "    custom_roughness_path = None\n",
            "River attributes written to data/OC1mTest_river_attributes.csv\n",
            "Synthetic rating curves written to data/OC1mTest_src.csv\n",
            "calculate_src completed in 9.9250 seconds\n",
            "\n",
            "Running calculate_flood_stage with parameters:\n",
            "    custom_src = None\n",
            "    custom_streamflow_forecast_path = None\n",
            "    custom_path = None\n",
            "    custom_Q = 500\n",
            "Applying custom streamflow to each segment: 500 cms\n",
            "Flood stages written to data/OC1mTest_flood_stage.csv\n",
            "calculate_flood_stage completed in 0.0110 seconds\n",
            "\n",
            "Running inundate with parameters:\n",
            "    custom_hand = None\n",
            "    custom_flood_stage = None\n",
            "    custom_segment_catchments_raster = None\n",
            "    custom_path = None\n",
            "Flood inundation raster written to data/OC1mTest_fim.tif\n",
            "inundate completed in 2.5304 seconds\n",
            "\n",
            "run_fim_workflow completed in 2.0620 minutes\n",
            "\n"
          ]
        }
      ],
      "source": [
        "# set constant flowrate since we don't have a streamflow forecast\n",
        "# see docs for `pyGeoFlood.config` and `pyGeoFlood.calculate_flood_stage`\n",
        "\n",
        "pgf.config = {\"calculate_flood_stage\": {\"custom_Q\": 500}}\n",
        "\n",
        "pgf.run_fim_workflow()"
      ]
    },
    {
      "cell_type": "markdown",
      "metadata": {
        "id": "wPe2-mSDbyr-"
      },
      "source": [
        "### Plot flood inundation map\n"
      ]
    },
    {
      "cell_type": "code",
      "execution_count": 7,
      "metadata": {
        "id": "uJtpXfKHbyr-",
        "outputId": "15159bab-ff9f-41f4-b720-f72214d00000",
        "colab": {
          "base_uri": "https://localhost:8080/",
          "height": 406
        }
      },
      "outputs": [
        {
          "output_type": "display_data",
          "data": {
            "text/plain": [
              "<Figure size 640x480 with 2 Axes>"
            ],
            "image/png": "[encoded data removed]"
          },
          "metadata": {}
        }
      ],
      "source": [
        "import matplotlib.pyplot as plt\n",
        "import numpy as np\n",
        "import rasterio as rio\n",
        "\n",
        "with rio.open(pgf.fim_path) as ds:\n",
        "    fim = ds.read(1)\n",
        "    fim[fim == ds.nodata] = np.nan\n",
        "\n",
        "plt.imshow(fim, cmap=\"Blues\")\n",
        "plt.colorbar()\n",
        "plt.show()"
      ]
    },
    {
      "cell_type": "markdown",
      "metadata": {
        "id": "m3iw_HIMbyr_"
      },
      "source": [
        "All output files are saved in the `data` directory and can be downloaded for viewing with a GIS software such as QGIS\n"
      ]
    },
    {
      "cell_type": "code",
      "execution_count": 8,
      "metadata": {
        "id": "cGvuCfjRbyr_",
        "outputId": "612dc9cb-e2aa-4713-dbfb-bdcf2282997d",
        "colab": {
          "base_uri": "https://localhost:8080/"
        }
      },
      "outputs": [
        {
          "output_type": "stream",
          "name": "stdout",
          "text": [
            "Paths written to data/paths.txt\n"
          ]
        }
      ],
      "source": [
        "# save output data file paths we can load our pyGeoFlood instance later with\n",
        "# pgf = pyGeoFlood.from_paths(\"data/paths.txt\")\n",
        "pgf.to_paths(\"data/paths.txt\")"
      ]
    },
    {
      "cell_type": "code",
      "source": [],
      "metadata": {
        "id": "gqma687vcW6e"
      },
      "execution_count": 8,
      "outputs": []
    }
  ],
  "metadata": {
    "colab": {
      "provenance": []
    },
    "kernelspec": {
      "display_name": "Python 3",
      "name": "python3"
    },
    "language_info": {
      "codemirror_mode": {
        "name": "ipython",
        "version": 3
      },
      "file_extension": ".py",
      "mimetype": "text/x-python",
      "name": "python",
      "nbconvert_exporter": "python",
      "pygments_lexer": "ipython3",
      "version": "3.12.7"
    }
  },
  "nbformat": 4,
  "nbformat_minor": 0
}